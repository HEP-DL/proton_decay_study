{
 "cells": [
  {
   "cell_type": "code",
   "execution_count": 1,
   "metadata": {},
   "outputs": [
    {
     "name": "stderr",
     "output_type": "stream",
     "text": [
      "Using TensorFlow backend.\n"
     ]
    }
   ],
   "source": [
    "import keras\n",
    "from keras.layers.convolutional import MaxPooling3D, Conv3D\n",
    "from keras.layers import Input, Dropout, Dense, Flatten\n",
    "from keras.models import Model\n",
    "from keras import optimizers\n",
    "import logging\n",
    "\n",
    "logging.basicConfig(level=logging.DEBUG)"
   ]
  },
  {
   "cell_type": "code",
   "execution_count": 2,
   "metadata": {
    "collapsed": true
   },
   "outputs": [],
   "source": [
    "class DummyGen(object):\n",
    "    \n",
    "    def __init__(self, width=3600, height=3600, labels=10):\n",
    "        self.width = 3600\n",
    "        self.height = 3600\n",
    "        self.labels = 10\n",
    "        \n",
    "    @property\n",
    "    def input(self):\n",
    "        return self.labels\n",
    "    \n",
    "    @property\n",
    "    def output(self):\n",
    "        return (1, 3, self.height, self.width)\n",
    "    \n",
    "    def __iter__(self):\n",
    "        return self\n",
    "    \n",
    "    def __next__(self):\n",
    "        return self.next\n",
    "    \n",
    "    def next(self):\n",
    "        raise StopIteration(\"This is a dummy gen\")\n",
    "        \n",
    "mygen = DummyGen()"
   ]
  },
  {
   "cell_type": "code",
   "execution_count": 3,
   "metadata": {
    "collapsed": true
   },
   "outputs": [],
   "source": [
    "class Minnet(Model):\n",
    "  logger = logging.getLogger('pdk.minnet')\n",
    "\n",
    "  def __init__(self, generator):\n",
    "\n",
    "    self.generator = generator\n",
    "\n",
    "    layer = self.assemble(generator)\n",
    "    super(Kevnet, self).__init__(self._input, layer)\n",
    "    self.logger.info(\"Compiling Model\")\n",
    "    self.sgd = optimizers.SGD(lr=0.01, \n",
    "                              decay=1e-6,\n",
    "                              momentum=0.9, \n",
    "                              nesterov=True)\n",
    "    self.compile(loss='mean_squared_error', optimizer=self.sgd,\n",
    "                 metrics=['accuracy'])\n",
    "\n",
    "  def assemble(self, generator):\n",
    "\n",
    "    self.logger.info(\"Assembling Model\")\n",
    "    self._input = Input(shape=generator.output,\n",
    "                        dtype='float32')\n",
    "    self.logger.info(self._input)\n",
    "\n",
    "    layer = Conv3D(32, (1, 3, 3), strides=(1, 2, 2),\n",
    "                   activation='relu', padding='same',\n",
    "                   data_format='channels_first')(self._input)\n",
    "    self.logger.info(layer)\n",
    "    layer = MaxPooling3D((1, 3, 3), strides=(1, 2, 2),\n",
    "                         data_format='channels_first')(layer)\n",
    "    self.logger.info(layer)\n",
    "\n",
    "    layer = Conv3D(64, (1, 3, 3), strides=(1, 2, 2),\n",
    "                   activation='relu', padding='same',\n",
    "                   data_format='channels_first')(layer)\n",
    "    self.logger.info(layer)\n",
    "    layer = MaxPooling3D((1, 3, 3), strides=(1, 2, 2),\n",
    "                         data_format='channels_first')(layer)\n",
    "    self.logger.info(layer)\n",
    "\n",
    "    layer = Conv3D(128, (1, 3, 3), strides=(1, 2, 2),\n",
    "                   activation='relu', padding='same',\n",
    "                   data_format='channels_first')(layer)\n",
    "    self.logger.info(layer)\n",
    "    layer = MaxPooling3D((1, 3, 3), strides=(1, 2, 2),\n",
    "                         data_format='channels_first')(layer)\n",
    "    self.logger.info(layer)\n",
    "\n",
    "    layer = Conv3D(512, (3, 3, 3), strides=(3, 2, 2),\n",
    "                   activation='relu', padding='same',\n",
    "                   data_format='channels_first')(layer)\n",
    "    self.logger.info(layer)\n",
    "    layer = MaxPooling3D((1, 3, 3), strides=(1, 2, 2),\n",
    "                         data_format='channels_first')(layer)\n",
    "    self.logger.info(layer)\n",
    "\n",
    "    layer = Conv3D(1024, (1, 3, 3), strides=(1, 3, 3),\n",
    "                   activation='relu', padding='same',\n",
    "                   data_format='channels_first')(layer)\n",
    "    self.logger.info(layer)\n",
    "    layer = MaxPooling3D((1, 3, 3), strides=(1, 3, 3),\n",
    "                         data_format='channels_first')(layer)\n",
    "    self.logger.info(layer)\n",
    "    self.last_conv_layer = layer\n",
    "\n",
    "    # Classification block\n",
    "    layer = Flatten(name='flatten')(layer)\n",
    "    layer = Dropout(0.01)(layer)\n",
    "    layer = Dense(2048, activation='relu')(layer)\n",
    "    layer = Dropout(0.01)(layer)\n",
    "    layer = Dense(generator.input,\n",
    "                  activation='softmax')(layer)\n",
    "    self.logger.info(layer)\n",
    "    return layer\n"
   ]
  },
  {
   "cell_type": "code",
   "execution_count": 4,
   "metadata": {},
   "outputs": [
    {
     "name": "stderr",
     "output_type": "stream",
     "text": [
      "INFO:pdk.kevnet:Assembling Model\n",
      "INFO:pdk.kevnet:Tensor(\"input_1:0\", shape=(?, 1, 3, 3600, 3600), dtype=float32)\n",
      "INFO:pdk.kevnet:Tensor(\"conv3d_1/Relu:0\", shape=(?, 32, 3, 1800, 1800), dtype=float32)\n",
      "INFO:pdk.kevnet:Tensor(\"max_pooling3d_1/transpose_1:0\", shape=(?, 32, 3, 899, 899), dtype=float32)\n",
      "INFO:pdk.kevnet:Tensor(\"conv3d_2/Relu:0\", shape=(?, 64, 3, 450, 450), dtype=float32)\n",
      "INFO:pdk.kevnet:Tensor(\"max_pooling3d_2/transpose_1:0\", shape=(?, 64, 3, 224, 224), dtype=float32)\n",
      "INFO:pdk.kevnet:Tensor(\"conv3d_3/Relu:0\", shape=(?, 128, 3, 112, 112), dtype=float32)\n",
      "INFO:pdk.kevnet:Tensor(\"max_pooling3d_3/transpose_1:0\", shape=(?, 128, 3, 55, 55), dtype=float32)\n",
      "INFO:pdk.kevnet:Tensor(\"conv3d_4/Relu:0\", shape=(?, 512, 1, 28, 28), dtype=float32)\n",
      "INFO:pdk.kevnet:Tensor(\"max_pooling3d_4/transpose_1:0\", shape=(?, 512, 1, 13, 13), dtype=float32)\n",
      "INFO:pdk.kevnet:Tensor(\"conv3d_5/Relu:0\", shape=(?, 1024, 1, 5, 5), dtype=float32)\n",
      "INFO:pdk.kevnet:Tensor(\"max_pooling3d_5/transpose_1:0\", shape=(?, 1024, 1, 1, 1), dtype=float32)\n",
      "INFO:pdk.kevnet:Tensor(\"dense_2/Softmax:0\", shape=(?, 10), dtype=float32)\n",
      "INFO:pdk.kevnet:Compiling Model\n"
     ]
    }
   ],
   "source": [
    "mymodel= Kevnet(mygen)"
   ]
  },
  {
   "cell_type": "code",
   "execution_count": null,
   "metadata": {
    "collapsed": true
   },
   "outputs": [],
   "source": []
  }
 ],
 "metadata": {
  "kernelspec": {
   "display_name": "Python 3",
   "language": "python",
   "name": "python3"
  },
  "language_info": {
   "codemirror_mode": {
    "name": "ipython",
    "version": 3
   },
   "file_extension": ".py",
   "mimetype": "text/x-python",
   "name": "python",
   "nbconvert_exporter": "python",
   "pygments_lexer": "ipython3",
   "version": "3.5.3rc1"
  }
 },
 "nbformat": 4,
 "nbformat_minor": 2
}
