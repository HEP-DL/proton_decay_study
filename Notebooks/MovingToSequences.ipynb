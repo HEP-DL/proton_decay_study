{
 "cells": [
  {
   "cell_type": "code",
   "execution_count": 1,
   "metadata": {},
   "outputs": [
    {
     "name": "stderr",
     "output_type": "stream",
     "text": [
      "Using TensorFlow backend.\n"
     ]
    }
   ],
   "source": [
    "from proton_decay_study.models.stages import *\n",
    "from keras.layers.convolutional import MaxPooling3D, Conv3D\n",
    "from keras.layers import InputLayer, Dropout, Dense, Flatten\n",
    "from keras.models import Sequential\n",
    "from keras import optimizers\n",
    "from keras.regularizers import l1, l2\n",
    "import logging\n"
   ]
  },
  {
   "cell_type": "code",
   "execution_count": 2,
   "metadata": {
    "collapsed": true
   },
   "outputs": [],
   "source": [
    "class MyGen(object):\n",
    "    @property\n",
    "    def output(self):\n",
    "        return (1,3,9600,3600)\n",
    "    @property\n",
    "    def input(self):\n",
    "        return 10\n",
    "gen = MyGen()"
   ]
  },
  {
   "cell_type": "code",
   "execution_count": 8,
   "metadata": {},
   "outputs": [],
   "source": [
    "class MyNet(Sequential):\n",
    "    fc_name='fc1'\n",
    "    \n",
    "    def __init__(self, generator):\n",
    "        super(MyNet, self).__init__()\n",
    "        self.generator = generator\n",
    "        self.assemble()\n",
    "        self.sgd = optimizers.RMSprop(lr=1e-9, rho=0.999, epsilon=1e-9, decay=1e-9)\n",
    "        self.compile(loss='mean_squared_error', optimizer=self.sgd,\n",
    "                 metrics=['accuracy'])\n",
    "    def assemble(self):\n",
    "        self._input = InputLayer(input_shape=self.generator.output,\n",
    "                        dtype='float32',\n",
    "                        name='input_1')\n",
    "        self.add(self._input)\n",
    "\n",
    "        self.add(Conv3D(32, (1, 5, 5), strides=(1, 4, 4),\n",
    "                       activation='relu', padding='same',\n",
    "                       data_format='channels_first',\n",
    "                       kernel_initializer='random_uniform',\n",
    "                       bias_initializer='zeros',\n",
    "                       kernel_regularizer=l2(0.01),\n",
    "                       activity_regularizer=l1(0.01),\n",
    "                       name='conv1_1'))\n",
    "        self.add(MaxPooling3D((1, 4, 4), strides=(1, 4, 4),\n",
    "                         data_format='channels_first',\n",
    "                         name='pool_1_1'))\n",
    "        \n",
    "        self.add(Flatten(name='flatten_{}'.format(self.fc_name)))\n",
    "        self.add(Dense(self.generator.input,\n",
    "                  activation='softmax',\n",
    "                  kernel_initializer='random_uniform',\n",
    "                  bias_initializer='zeros',\n",
    "                  kernel_regularizer=l2(0.01),\n",
    "                  activity_regularizer=l1(0.01),\n",
    "                  name=self.fc_name))\n",
    "        \n",
    "net = MyNet(gen)"
   ]
  },
  {
   "cell_type": "code",
   "execution_count": null,
   "metadata": {
    "collapsed": true
   },
   "outputs": [],
   "source": []
  }
 ],
 "metadata": {
  "kernelspec": {
   "display_name": "Python 2",
   "language": "python",
   "name": "python2"
  },
  "language_info": {
   "codemirror_mode": {
    "name": "ipython",
    "version": 2
   },
   "file_extension": ".py",
   "mimetype": "text/x-python",
   "name": "python",
   "nbconvert_exporter": "python",
   "pygments_lexer": "ipython2",
   "version": "2.7.10"
  }
 },
 "nbformat": 4,
 "nbformat_minor": 2
}
