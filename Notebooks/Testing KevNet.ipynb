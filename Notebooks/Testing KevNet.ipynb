{
 "cells": [
  {
   "cell_type": "code",
   "execution_count": 1,
   "metadata": {},
   "outputs": [
    {
     "name": "stderr",
     "output_type": "stream",
     "text": [
      "Using TensorFlow backend.\n"
     ]
    }
   ],
   "source": [
    "from proton_decay_study.generators.gen3d import Gen3D\n",
    "from proton_decay_study.models.kevnet import Kevnet\n",
    "import tensorflow as tf\n",
    "import logging\n",
    "import glob"
   ]
  },
  {
   "cell_type": "code",
   "execution_count": 2,
   "metadata": {},
   "outputs": [
    {
     "name": "stderr",
     "output_type": "stream",
     "text": [
      "INFO:pdk.gen.gen3d:Initializing h5 file object with value: ../../prod_pdk_nubarkplus_49.h5\n",
      "INFO:pdk.kevnet:Assembling Model\n",
      "DEBUG:pdk.gen.gen3d:Getting called in next\n",
      "DEBUG:pdk.gen.gen3d:returning value with shape: (1, 1, 3, 9600, 3600)\n",
      "INFO:pdk.kevnet:Tensor(\"input_1:0\", shape=(?, 1, 3, 9600, 3600), dtype=float32)\n",
      "INFO:pdk.kevnet:(?, 1, 3, 9600, 3600)\n",
      "INFO:pdk.kevnet:(?, 2, 3, 1067, 720)\n",
      "INFO:pdk.kevnet:(?, 2, 3, 533, 360)\n",
      "INFO:pdk.kevnet:(?, 2, 3, 533, 360)\n",
      "DEBUG:pdk.gen.gen3d:Getting called in next\n",
      "DEBUG:pdk.gen.gen3d:returning value with shape: (1, 1, 3, 9600, 3600)\n",
      "INFO:pdk.kevnet:(?, 10)\n",
      "INFO:pdk.kevnet:Compiling Model\n"
     ]
    }
   ],
   "source": [
    "logging.basicConfig(level=logging.DEBUG)\n",
    "logger = logging.getLogger()\n",
    "\n",
    "generator = Gen3D(glob.glob('../../*.h5'), 'image/wires','label/type', batch_size=1)\n",
    "model = Kevnet(generator)"
   ]
  },
  {
   "cell_type": "code",
   "execution_count": null,
   "metadata": {},
   "outputs": [],
   "source": [
    "#for i in range(11):\n",
    "#    generator.next()"
   ]
  },
  {
   "cell_type": "code",
   "execution_count": null,
   "metadata": {},
   "outputs": [
    {
     "name": "stderr",
     "output_type": "stream",
     "text": [
      "DEBUG:pdk.gen.gen3d:Getting called in next\n",
      "DEBUG:pdk.gen.gen3d:returning value with shape: (1, 1, 3, 9600, 3600)\n"
     ]
    },
    {
     "name": "stdout",
     "output_type": "stream",
     "text": [
      "Epoch 1/1\n"
     ]
    }
   ],
   "source": [
    "X,Y = generator.next()\n",
    "model.fit(X, Y, batch_size=1, epochs=1, verbose=1, callbacks=None, \n",
    "          validation_split=0.0, validation_data=None,\n",
    "          shuffle=True, class_weight=None, sample_weight=None, initial_epoch=0)"
   ]
  },
  {
   "cell_type": "code",
   "execution_count": null,
   "metadata": {
    "collapsed": true
   },
   "outputs": [],
   "source": [
    "\"\"\"\n",
    "training_output = model.fit_generator(generator, \n",
    "                                      steps_per_epoch=1, \n",
    "                                      epochs=1,\n",
    "                                      workers=1,\n",
    "                                      verbose=0,\n",
    "                                      max_q_size=1,\n",
    "                                      pickle_safe=False\n",
    "                                     )\n",
    "\"\"\""
   ]
  }
 ],
 "metadata": {
  "kernelspec": {
   "display_name": "Python 2",
   "language": "python",
   "name": "python2"
  },
  "language_info": {
   "codemirror_mode": {
    "name": "ipython",
    "version": 2
   },
   "file_extension": ".py",
   "mimetype": "text/x-python",
   "name": "python",
   "nbconvert_exporter": "python",
   "pygments_lexer": "ipython2",
   "version": "2.7.10"
  }
 },
 "nbformat": 4,
 "nbformat_minor": 2
}
