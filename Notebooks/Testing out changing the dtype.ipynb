{
 "cells": [
  {
   "cell_type": "code",
   "execution_count": 1,
   "metadata": {},
   "outputs": [
    {
     "name": "stderr",
     "output_type": "stream",
     "text": [
      "Using TensorFlow backend.\n"
     ]
    }
   ],
   "source": [
    "from keras.layers.convolutional import MaxPooling3D, Conv3D\n",
    "from keras.layers import Input, Dropout, Dense, Flatten\n",
    "from keras.models import Model\n",
    "from keras import optimizers\n",
    "import logging"
   ]
  },
  {
   "cell_type": "code",
   "execution_count": 2,
   "metadata": {
    "collapsed": true
   },
   "outputs": [],
   "source": [
    "mymodel = Model()\n",
    "sgd = optimizers.SGD(lr=0.1, \n",
    "                              decay=1e-3,\n",
    "                              momentum=0.9, \n",
    "                              nesterov=True)\n",
    "\"\"\"\n",
    "\n",
    "\n",
    "    self.compile(loss='mean_squared_error', optimizer=self.sgd,\n",
    "                 metrics=['accuracy'])\n",
    "\n",
    "\"\"\""
   ]
  },
  {
   "cell_type": "code",
   "execution_count": 24,
   "metadata": {},
   "outputs": [
    {
     "name": "stdout",
     "output_type": "stream",
     "text": [
      "Tensor(\"conv1_15/Relu:0\", shape=(?, 1024, 3, 686, 450), dtype=float32)\n",
      "Tensor(\"pool1_8/transpose_1:0\", shape=(?, 1024, 3, 48, 56), dtype=float32)\n",
      "Tensor(\"conv2_7/Relu:0\", shape=(?, 2048, 1, 4, 7), dtype=float32)\n",
      "Tensor(\"pool2_5/transpose_1:0\", shape=(?, 2048, 1, 1, 1), dtype=float32)\n"
     ]
    }
   ],
   "source": [
    "input_ = Input(shape=(1, 3, 9600, 3600), dtype='float32')\n",
    "layer = Conv3D(1024, (1, 15, 9), strides=(1, 14, 8),\n",
    "                   activation='relu', padding='same',\n",
    "                   data_format='channels_first',\n",
    "                   name='conv1')(input_)\n",
    "print layer\n",
    "layer = MaxPooling3D((1, 15, 9), strides=(1, 14, 8),\n",
    "                     data_format='channels_first',\n",
    "                    name='pool1')(layer)\n",
    "print layer\n",
    "layer = Conv3D(2048, (3, 15, 9), strides=(3, 14, 8),\n",
    "                   activation='relu', padding='same',\n",
    "                   data_format='channels_first',\n",
    "                  name='conv2')(layer)\n",
    "print layer\n",
    "layer = MaxPooling3D((1, 4, 7), strides=(1, 4, 7),\n",
    "                         data_format='channels_first',\n",
    "                        name='pool2')(layer)\n",
    "print layer"
   ]
  },
  {
   "cell_type": "code",
   "execution_count": 9,
   "metadata": {},
   "outputs": [],
   "source": [
    "\n",
    "    \n",
    "    self.logger.info(layer)\n",
    "\n",
    "    layer = Conv3D(256, (1, 4, 7), strides=(1, 4, 7),\n",
    "                   activation='relu', padding='same',\n",
    "                   data_format='channels_first',\n",
    "                   name='conv3')(layer)\n",
    "    self.logger.info(layer)\n",
    "    layer = MaxPooling3D((1, 4, 7), strides=(1, 4, 7),\n",
    "                         data_format='channels_first',\n",
    "                         name='pool3')(layer)\n",
    "    self.logger.info(layer)\n",
    "\n",
    "    # Classification block\n",
    "    layer = Flatten(name='flatten')(layer)\n",
    "    layer = Dropout(0.01)(layer)\n",
    "    layer = Dense(generator.input,\n",
    "                  activation='softmax',\n",
    "                  name='predictions')(layer)\n",
    "    self.logger.info(layer.shape)\n",
    "    return layer\n"
   ]
  },
  {
   "cell_type": "code",
   "execution_count": null,
   "metadata": {
    "collapsed": true
   },
   "outputs": [],
   "source": []
  }
 ],
 "metadata": {
  "kernelspec": {
   "display_name": "Python 2",
   "language": "python",
   "name": "python2"
  },
  "language_info": {
   "codemirror_mode": {
    "name": "ipython",
    "version": 2
   },
   "file_extension": ".py",
   "mimetype": "text/x-python",
   "name": "python",
   "nbconvert_exporter": "python",
   "pygments_lexer": "ipython2",
   "version": "2.7.10"
  }
 },
 "nbformat": 4,
 "nbformat_minor": 2
}
