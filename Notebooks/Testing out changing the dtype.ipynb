{
 "cells": [
  {
   "cell_type": "code",
   "execution_count": 1,
   "metadata": {},
   "outputs": [
    {
     "name": "stderr",
     "output_type": "stream",
     "text": [
      "Using TensorFlow backend.\n"
     ]
    }
   ],
   "source": [
    "from keras.layers.convolutional import MaxPooling3D, Conv3D\n",
    "from keras.layers import Input, Dropout, Dense, Flatten\n",
    "from keras.models import Model\n",
    "from keras import optimizers\n",
    "import logging"
   ]
  },
  {
   "cell_type": "code",
   "execution_count": 2,
   "metadata": {},
   "outputs": [
    {
     "data": {
      "text/plain": [
       "\"\\n\\n\\n    self.compile(loss='mean_squared_error', optimizer=self.sgd,\\n                 metrics=['accuracy'])\\n\\n\""
      ]
     },
     "execution_count": 2,
     "metadata": {},
     "output_type": "execute_result"
    }
   ],
   "source": [
    "\n",
    "sgd = optimizers.SGD(lr=0.1, \n",
    "                              decay=1e-3,\n",
    "                              momentum=0.9, \n",
    "                              nesterov=True)\n",
    "\"\"\"\n",
    "\n",
    "\n",
    "    self.compile(loss='mean_squared_error', optimizer=self.sgd,\n",
    "                 metrics=['accuracy'])\n",
    "\n",
    "\"\"\""
   ]
  },
  {
   "cell_type": "code",
   "execution_count": 3,
   "metadata": {},
   "outputs": [],
   "source": [
    "_input = Input(shape=(1, 3, 9600, 3600), dtype='float32')\n",
    "layer = Conv3D(256, (1, 3, 3), strides=(1, 3, 3),\n",
    "                       activation='relu', padding='same',\n",
    "                       data_format='channels_first')(_input)\n",
    "\n",
    "layer = MaxPooling3D((1, 3, 3), strides=(1, 3, 3),\n",
    "                         data_format='channels_first')(layer)\n"
   ]
  },
  {
   "cell_type": "code",
   "execution_count": 4,
   "metadata": {},
   "outputs": [],
   "source": [
    "layer = Dense(10,\n",
    "                  activation='softmax')(layer)"
   ]
  },
  {
   "cell_type": "code",
   "execution_count": 5,
   "metadata": {},
   "outputs": [],
   "source": [
    "mymodel = Model(_input, layer)"
   ]
  },
  {
   "cell_type": "code",
   "execution_count": null,
   "metadata": {
    "collapsed": true
   },
   "outputs": [],
   "source": []
  }
 ],
 "metadata": {
  "kernelspec": {
   "display_name": "Python 2",
   "language": "python",
   "name": "python2"
  },
  "language_info": {
   "codemirror_mode": {
    "name": "ipython",
    "version": 2
   },
   "file_extension": ".py",
   "mimetype": "text/x-python",
   "name": "python",
   "nbconvert_exporter": "python",
   "pygments_lexer": "ipython2",
   "version": "2.7.10"
  }
 },
 "nbformat": 4,
 "nbformat_minor": 2
}
