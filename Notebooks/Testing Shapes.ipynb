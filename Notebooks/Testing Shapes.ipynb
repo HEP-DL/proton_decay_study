{
 "cells": [
  {
   "cell_type": "code",
   "execution_count": 1,
   "metadata": {},
   "outputs": [
    {
     "name": "stderr",
     "output_type": "stream",
     "text": [
      "Using TensorFlow backend.\n"
     ]
    }
   ],
   "source": [
    "from proton_decay_study.models.stages import stages\n",
    "import logging\n",
    "logging.basicConfig(level=logging.DEBUG)"
   ]
  },
  {
   "cell_type": "code",
   "execution_count": 2,
   "metadata": {},
   "outputs": [],
   "source": [
    "class DummyGen():\n",
    "    @property\n",
    "    def output(self):\n",
    "        return (1, 3, 9600, 3600)\n",
    "    @property\n",
    "    def input(self):\n",
    "        return 10\n",
    "gen = DummyGen()"
   ]
  },
  {
   "cell_type": "code",
   "execution_count": 3,
   "metadata": {},
   "outputs": [
    {
     "name": "stderr",
     "output_type": "stream",
     "text": [
      "INFO:pdk.stage1:Tensor(\"conv3d_1/Relu:0\", shape=(?, 32, 3, 2400, 900), dtype=float32)\n",
      "INFO:pdk.stage1:Tensor(\"max_pooling3d_1/transpose_1:0\", shape=(?, 32, 3, 600, 225), dtype=float32)\n",
      "INFO:pdk.stage1:Tensor(\"dense_1/Softmax:0\", shape=(?, 10), dtype=float32)\n",
      "INFO:pdk.stage1:Compiling Model\n",
      "INFO:pdk.stage2:Tensor(\"conv3d_2/Relu:0\", shape=(?, 32, 3, 2400, 900), dtype=float32)\n",
      "INFO:pdk.stage2:Tensor(\"max_pooling3d_2/transpose_1:0\", shape=(?, 32, 3, 600, 225), dtype=float32)\n",
      "INFO:pdk.stage2:Tensor(\"conv3d_3/Relu:0\", shape=(?, 64, 3, 300, 113), dtype=float32)\n",
      "INFO:pdk.stage2:Tensor(\"max_pooling3d_3/transpose_1:0\", shape=(?, 64, 3, 150, 56), dtype=float32)\n",
      "INFO:pdk.stage2:Tensor(\"dense_2/Softmax:0\", shape=(?, 10), dtype=float32)\n",
      "INFO:pdk.stage2:Compiling Model\n",
      "INFO:pdk.stage3:Tensor(\"conv3d_4/Relu:0\", shape=(?, 32, 3, 2400, 900), dtype=float32)\n",
      "INFO:pdk.stage3:Tensor(\"max_pooling3d_4/transpose_1:0\", shape=(?, 32, 3, 600, 225), dtype=float32)\n",
      "INFO:pdk.stage3:Tensor(\"conv3d_5/Relu:0\", shape=(?, 64, 3, 300, 113), dtype=float32)\n",
      "INFO:pdk.stage3:Tensor(\"max_pooling3d_5/transpose_1:0\", shape=(?, 64, 3, 150, 56), dtype=float32)\n",
      "INFO:pdk.stage3:Tensor(\"conv3d_6/Relu:0\", shape=(?, 128, 3, 75, 28), dtype=float32)\n",
      "INFO:pdk.stage3:Tensor(\"max_pooling3d_6/transpose_1:0\", shape=(?, 128, 3, 37, 14), dtype=float32)\n",
      "INFO:pdk.stage3:Tensor(\"dense_3/Softmax:0\", shape=(?, 10), dtype=float32)\n",
      "INFO:pdk.stage3:Compiling Model\n",
      "INFO:pdk.stage4:Tensor(\"conv3d_7/Relu:0\", shape=(?, 32, 3, 2400, 900), dtype=float32)\n",
      "INFO:pdk.stage4:Tensor(\"max_pooling3d_7/transpose_1:0\", shape=(?, 32, 3, 600, 225), dtype=float32)\n",
      "INFO:pdk.stage4:Tensor(\"conv3d_8/Relu:0\", shape=(?, 64, 3, 300, 113), dtype=float32)\n",
      "INFO:pdk.stage4:Tensor(\"max_pooling3d_8/transpose_1:0\", shape=(?, 64, 3, 150, 56), dtype=float32)\n",
      "INFO:pdk.stage4:Tensor(\"conv3d_9/Relu:0\", shape=(?, 128, 3, 75, 28), dtype=float32)\n",
      "INFO:pdk.stage4:Tensor(\"max_pooling3d_9/transpose_1:0\", shape=(?, 128, 3, 37, 14), dtype=float32)\n",
      "INFO:pdk.stage4:Tensor(\"conv3d_10/Relu:0\", shape=(?, 128, 1, 19, 7), dtype=float32)\n",
      "INFO:pdk.stage4:Tensor(\"max_pooling3d_10/transpose_1:0\", shape=(?, 128, 1, 9, 3), dtype=float32)\n",
      "INFO:pdk.stage4:Tensor(\"dense_4/Softmax:0\", shape=(?, 10), dtype=float32)\n",
      "INFO:pdk.stage4:Compiling Model\n",
      "INFO:pdk.stage5:Tensor(\"conv3d_11/Relu:0\", shape=(?, 32, 3, 2400, 900), dtype=float32)\n",
      "INFO:pdk.stage5:Tensor(\"max_pooling3d_11/transpose_1:0\", shape=(?, 32, 3, 600, 225), dtype=float32)\n",
      "INFO:pdk.stage5:Tensor(\"conv3d_12/Relu:0\", shape=(?, 64, 3, 300, 113), dtype=float32)\n",
      "INFO:pdk.stage5:Tensor(\"max_pooling3d_12/transpose_1:0\", shape=(?, 64, 3, 150, 56), dtype=float32)\n",
      "INFO:pdk.stage5:Tensor(\"conv3d_13/Relu:0\", shape=(?, 128, 3, 75, 28), dtype=float32)\n",
      "INFO:pdk.stage5:Tensor(\"max_pooling3d_13/transpose_1:0\", shape=(?, 128, 3, 37, 14), dtype=float32)\n",
      "INFO:pdk.stage5:Tensor(\"conv3d_14/Relu:0\", shape=(?, 128, 1, 19, 7), dtype=float32)\n",
      "INFO:pdk.stage5:Tensor(\"max_pooling3d_14/transpose_1:0\", shape=(?, 128, 1, 9, 3), dtype=float32)\n",
      "INFO:pdk.stage5:Tensor(\"conv3d_15/Relu:0\", shape=(?, 256, 1, 5, 2), dtype=float32)\n",
      "INFO:pdk.stage5:Tensor(\"max_pooling3d_15/transpose_1:0\", shape=(?, 256, 1, 2, 1), dtype=float32)\n",
      "INFO:pdk.stage5:Tensor(\"dense_5/Softmax:0\", shape=(?, 10), dtype=float32)\n",
      "INFO:pdk.stage5:Compiling Model\n",
      "INFO:pdk.stage6:Tensor(\"conv3d_16/Relu:0\", shape=(?, 32, 3, 2400, 900), dtype=float32)\n",
      "INFO:pdk.stage6:Tensor(\"max_pooling3d_16/transpose_1:0\", shape=(?, 32, 3, 600, 225), dtype=float32)\n",
      "INFO:pdk.stage6:Tensor(\"conv3d_17/Relu:0\", shape=(?, 64, 3, 300, 113), dtype=float32)\n",
      "INFO:pdk.stage6:Tensor(\"max_pooling3d_17/transpose_1:0\", shape=(?, 64, 3, 150, 56), dtype=float32)\n",
      "INFO:pdk.stage6:Tensor(\"conv3d_18/Relu:0\", shape=(?, 128, 3, 75, 28), dtype=float32)\n",
      "INFO:pdk.stage6:Tensor(\"max_pooling3d_18/transpose_1:0\", shape=(?, 128, 3, 37, 14), dtype=float32)\n",
      "INFO:pdk.stage6:Tensor(\"conv3d_19/Relu:0\", shape=(?, 128, 1, 19, 7), dtype=float32)\n",
      "INFO:pdk.stage6:Tensor(\"max_pooling3d_19/transpose_1:0\", shape=(?, 128, 1, 9, 3), dtype=float32)\n",
      "INFO:pdk.stage6:Tensor(\"conv3d_20/Relu:0\", shape=(?, 256, 1, 5, 2), dtype=float32)\n",
      "INFO:pdk.stage6:Tensor(\"max_pooling3d_20/transpose_1:0\", shape=(?, 256, 1, 2, 1), dtype=float32)\n",
      "INFO:pdk.stage6:Tensor(\"conv3d_21/Relu:0\", shape=(?, 512, 1, 1, 1), dtype=float32)\n",
      "INFO:pdk.stage6:Tensor(\"dense_6/Softmax:0\", shape=(?, 10), dtype=float32)\n",
      "INFO:pdk.stage6:Compiling Model\n"
     ]
    }
   ],
   "source": [
    "for i in stages:\n",
    "    mod = i(gen)"
   ]
  },
  {
   "cell_type": "code",
   "execution_count": null,
   "metadata": {
    "collapsed": true
   },
   "outputs": [],
   "source": []
  }
 ],
 "metadata": {
  "kernelspec": {
   "display_name": "Python 2",
   "language": "python",
   "name": "python2"
  },
  "language_info": {
   "codemirror_mode": {
    "name": "ipython",
    "version": 2
   },
   "file_extension": ".py",
   "mimetype": "text/x-python",
   "name": "python",
   "nbconvert_exporter": "python",
   "pygments_lexer": "ipython2",
   "version": "2.7.10"
  }
 },
 "nbformat": 4,
 "nbformat_minor": 2
}
